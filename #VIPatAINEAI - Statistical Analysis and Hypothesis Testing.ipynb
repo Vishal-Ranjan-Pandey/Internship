{
 "cells": [
  {
   "cell_type": "markdown",
   "metadata": {
    "id": "kv-TcsXdiSZp"
   },
   "source": [
    "# Project 7: Statistical Analysis and Hypothesis Testing"
   ]
  },
  {
   "cell_type": "markdown",
   "metadata": {},
   "source": [
    "### Problem Statement:\n",
    "**About the project:** The project involves working on data related to Cookie Cats – a hugely popular puzzle\n",
    "game. As players progress through the levels of the game, they will occasionally encounter gates that\n",
    "force them to wait a non-trivial amount of time or make an in-app purchase to progress. In addition to\n",
    "driving in-app purchases, these gates serve the important purpose of giving players an enforced break\n",
    "from playing the game, hopefully resulting in the player's enjoyment of the game being increased and\n",
    "prolonged. But where should the gates be placed and how the placement of the gates can retain the\n",
    "players for more time."
   ]
  },
  {
   "cell_type": "markdown",
   "metadata": {},
   "source": [
    "- **Business Problem**\n",
    "- The overall objective of the project is to test the company’s CEO’s hypothesis that\n",
    "moving the first gate from level 30 to level 40 increases retention rate and the\n",
    "number of game rounds played. The CEO believes that players are churning\n",
    "because the first gate encountered at level 30 is too early which forces players to\n",
    "wait before they can proceed further in the game."
   ]
  },
  {
   "cell_type": "markdown",
   "metadata": {
    "id": "gi9x4HR1iSZp"
   },
   "source": [
    "## Packages and setup"
   ]
  },
  {
   "cell_type": "code",
   "execution_count": 1,
   "metadata": {
    "id": "NdQrrUh3iSZq"
   },
   "outputs": [],
   "source": [
    "import numpy as np\n",
    "import pandas as pd \n",
    "import seaborn as sns\n",
    "import matplotlib.pyplot as plt\n",
    "import os\n",
    "%matplotlib inline\n",
    "from scipy.stats import shapiro\n",
    "import scipy.stats as stats\n",
    "\n",
    "#parameter settings\n",
    "from IPython.core.interactiveshell import InteractiveShell\n",
    "InteractiveShell.ast_node_interactivity = \"all\"\n",
    "import warnings\n",
    "warnings.filterwarnings(\"ignore\")\n",
    "warnings.simplefilter(action='ignore', category=FutureWarning)"
   ]
  },
  {
   "cell_type": "markdown",
   "metadata": {
    "id": "qqf_XDwZiSZq"
   },
   "source": [
    "### Reading data and initial processing"
   ]
  },
  {
   "cell_type": "code",
   "execution_count": 2,
   "metadata": {
    "id": "OE839ZtOiSZr"
   },
   "outputs": [
    {
     "name": "stdout",
     "output_type": "stream",
     "text": [
      "Data types for the data set:\n"
     ]
    },
    {
     "data": {
      "text/plain": [
       "userid             int64\n",
       "version           object\n",
       "sum_gamerounds     int64\n",
       "retention_1         bool\n",
       "retention_7         bool\n",
       "dtype: object"
      ]
     },
     "execution_count": 2,
     "metadata": {},
     "output_type": "execute_result"
    },
    {
     "name": "stdout",
     "output_type": "stream",
     "text": [
      "Shape of the data i.e. no. of rows and columns\n"
     ]
    },
    {
     "data": {
      "text/plain": [
       "(90189, 5)"
      ]
     },
     "execution_count": 2,
     "metadata": {},
     "output_type": "execute_result"
    },
    {
     "name": "stdout",
     "output_type": "stream",
     "text": [
      "First 5 rows of the raw data:\n"
     ]
    },
    {
     "data": {
      "text/html": [
       "<div>\n",
       "<style scoped>\n",
       "    .dataframe tbody tr th:only-of-type {\n",
       "        vertical-align: middle;\n",
       "    }\n",
       "\n",
       "    .dataframe tbody tr th {\n",
       "        vertical-align: top;\n",
       "    }\n",
       "\n",
       "    .dataframe thead th {\n",
       "        text-align: right;\n",
       "    }\n",
       "</style>\n",
       "<table border=\"1\" class=\"dataframe\">\n",
       "  <thead>\n",
       "    <tr style=\"text-align: right;\">\n",
       "      <th></th>\n",
       "      <th>userid</th>\n",
       "      <th>version</th>\n",
       "      <th>sum_gamerounds</th>\n",
       "      <th>retention_1</th>\n",
       "      <th>retention_7</th>\n",
       "    </tr>\n",
       "  </thead>\n",
       "  <tbody>\n",
       "    <tr>\n",
       "      <th>0</th>\n",
       "      <td>116</td>\n",
       "      <td>gate_30</td>\n",
       "      <td>3</td>\n",
       "      <td>False</td>\n",
       "      <td>False</td>\n",
       "    </tr>\n",
       "    <tr>\n",
       "      <th>1</th>\n",
       "      <td>337</td>\n",
       "      <td>gate_30</td>\n",
       "      <td>38</td>\n",
       "      <td>True</td>\n",
       "      <td>False</td>\n",
       "    </tr>\n",
       "    <tr>\n",
       "      <th>2</th>\n",
       "      <td>377</td>\n",
       "      <td>gate_40</td>\n",
       "      <td>165</td>\n",
       "      <td>True</td>\n",
       "      <td>False</td>\n",
       "    </tr>\n",
       "    <tr>\n",
       "      <th>3</th>\n",
       "      <td>483</td>\n",
       "      <td>gate_40</td>\n",
       "      <td>1</td>\n",
       "      <td>False</td>\n",
       "      <td>False</td>\n",
       "    </tr>\n",
       "    <tr>\n",
       "      <th>4</th>\n",
       "      <td>488</td>\n",
       "      <td>gate_40</td>\n",
       "      <td>179</td>\n",
       "      <td>True</td>\n",
       "      <td>True</td>\n",
       "    </tr>\n",
       "  </tbody>\n",
       "</table>\n",
       "</div>"
      ],
      "text/plain": [
       "   userid  version  sum_gamerounds  retention_1  retention_7\n",
       "0     116  gate_30               3        False        False\n",
       "1     337  gate_30              38         True        False\n",
       "2     377  gate_40             165         True        False\n",
       "3     483  gate_40               1        False        False\n",
       "4     488  gate_40             179         True         True"
      ]
     },
     "execution_count": 2,
     "metadata": {},
     "output_type": "execute_result"
    }
   ],
   "source": [
    "#Read data using pandas\n",
    "user_df=pd.read_csv(\"Cookie-Cats/cookie_cats.csv\")\n",
    "\n",
    "#Check data types of each column using \"dtypes\" function\n",
    "print(\"Data types for the data set:\")\n",
    "user_df.dtypes\n",
    "\n",
    "#Check dimension of data i.e. # of rows and #column using pandas \"shape\" funtion\n",
    "print(\"Shape of the data i.e. no. of rows and columns\")\n",
    "user_df.shape\n",
    "\n",
    "#display first 5 rows of the data using \"head\" function\n",
    "print(\"First 5 rows of the raw data:\")\n",
    "user_df.head(5)"
   ]
  },
  {
   "cell_type": "markdown",
   "metadata": {
    "id": "hMuveQlXiSZr"
   },
   "source": [
    "## Exercise"
   ]
  },
  {
   "cell_type": "markdown",
   "metadata": {
    "id": "iN8-hwHDiSZs"
   },
   "source": [
    "## Q1. Detect and resolve problems in the data (Missing value, Outliers, etc.)"
   ]
  },
  {
   "cell_type": "markdown",
   "metadata": {
    "id": "h_ZnLazliSZs"
   },
   "source": [
    "### Q1.1 Identify missing value"
   ]
  },
  {
   "cell_type": "code",
   "execution_count": 3,
   "metadata": {
    "id": "g0YE1IjfiSZs"
   },
   "outputs": [
    {
     "data": {
      "text/plain": [
       "userid            0\n",
       "version           0\n",
       "sum_gamerounds    0\n",
       "retention_1       0\n",
       "retention_7       0\n",
       "dtype: int64"
      ]
     },
     "execution_count": 3,
     "metadata": {},
     "output_type": "execute_result"
    }
   ],
   "source": [
    "#Check for any missing values in the data using isnull() function\n",
    "\n",
    "user_df.isnull().sum()"
   ]
  },
  {
   "cell_type": "code",
   "execution_count": 4,
   "metadata": {},
   "outputs": [
    {
     "data": {
      "text/plain": [
       "1.0"
      ]
     },
     "execution_count": 4,
     "metadata": {},
     "output_type": "execute_result"
    }
   ],
   "source": [
    "# to check if there any duplicate data \n",
    "\n",
    "user_df.userid.nunique()/user_df.shape[0]"
   ]
  },
  {
   "cell_type": "code",
   "execution_count": 5,
   "metadata": {},
   "outputs": [
    {
     "data": {
      "text/html": [
       "<div>\n",
       "<style scoped>\n",
       "    .dataframe tbody tr th:only-of-type {\n",
       "        vertical-align: middle;\n",
       "    }\n",
       "\n",
       "    .dataframe tbody tr th {\n",
       "        vertical-align: top;\n",
       "    }\n",
       "\n",
       "    .dataframe thead th {\n",
       "        text-align: right;\n",
       "    }\n",
       "</style>\n",
       "<table border=\"1\" class=\"dataframe\">\n",
       "  <thead>\n",
       "    <tr style=\"text-align: right;\">\n",
       "      <th></th>\n",
       "      <th>count</th>\n",
       "      <th>mean</th>\n",
       "      <th>std</th>\n",
       "      <th>min</th>\n",
       "      <th>25%</th>\n",
       "      <th>50%</th>\n",
       "      <th>75%</th>\n",
       "      <th>max</th>\n",
       "    </tr>\n",
       "  </thead>\n",
       "  <tbody>\n",
       "    <tr>\n",
       "      <th>userid</th>\n",
       "      <td>90189.0</td>\n",
       "      <td>4.998412e+06</td>\n",
       "      <td>2.883286e+06</td>\n",
       "      <td>116.0</td>\n",
       "      <td>2512230.0</td>\n",
       "      <td>4995815.0</td>\n",
       "      <td>7496452.0</td>\n",
       "      <td>9999861.0</td>\n",
       "    </tr>\n",
       "    <tr>\n",
       "      <th>sum_gamerounds</th>\n",
       "      <td>90189.0</td>\n",
       "      <td>5.187246e+01</td>\n",
       "      <td>1.950509e+02</td>\n",
       "      <td>0.0</td>\n",
       "      <td>5.0</td>\n",
       "      <td>16.0</td>\n",
       "      <td>51.0</td>\n",
       "      <td>49854.0</td>\n",
       "    </tr>\n",
       "  </tbody>\n",
       "</table>\n",
       "</div>"
      ],
      "text/plain": [
       "                  count          mean           std    min        25%  \\\n",
       "userid          90189.0  4.998412e+06  2.883286e+06  116.0  2512230.0   \n",
       "sum_gamerounds  90189.0  5.187246e+01  1.950509e+02    0.0        5.0   \n",
       "\n",
       "                      50%        75%        max  \n",
       "userid          4995815.0  7496452.0  9999861.0  \n",
       "sum_gamerounds       16.0       51.0    49854.0  "
      ]
     },
     "execution_count": 5,
     "metadata": {},
     "output_type": "execute_result"
    }
   ],
   "source": [
    "user_df.describe().transpose()"
   ]
  },
  {
   "cell_type": "markdown",
   "metadata": {
    "id": "tMU_kjsiiSZs"
   },
   "source": [
    "### Q1.2 Identify outliers"
   ]
  },
  {
   "cell_type": "code",
   "execution_count": 6,
   "metadata": {
    "id": "IMwNE8XBiSZt"
   },
   "outputs": [
    {
     "data": {
      "text/plain": [
       "Text(0.5, 1.0, 'Total gamerounds played')"
      ]
     },
     "execution_count": 6,
     "metadata": {},
     "output_type": "execute_result"
    },
    {
     "data": {
      "text/plain": [
       "Text(0.5, 0, 'Index')"
      ]
     },
     "execution_count": 6,
     "metadata": {},
     "output_type": "execute_result"
    },
    {
     "data": {
      "text/plain": [
       "Text(0, 0.5, 'sum_gamerounds')"
      ]
     },
     "execution_count": 6,
     "metadata": {},
     "output_type": "execute_result"
    },
    {
     "data": {
      "text/plain": [
       "[<matplotlib.lines.Line2D at 0x1e3676ea0d0>]"
      ]
     },
     "execution_count": 6,
     "metadata": {},
     "output_type": "execute_result"
    },
    {
     "data": {
      "image/png": "[encoded data removed]",
      "text/plain": [
       "<Figure size 432x288 with 1 Axes>"
      ]
     },
     "metadata": {
      "needs_background": "light"
     },
     "output_type": "display_data"
    }
   ],
   "source": [
    "#Check for outlier values in sum_gamerounds column\n",
    "plt.title(\"Total gamerounds played\")\n",
    "plt.xlabel(\"Index\")\n",
    "plt.ylabel(\"sum_gamerounds\")\n",
    "plt.plot(user_df.sum_gamerounds)\n",
    "plt.show()"
   ]
  },
  {
   "cell_type": "code",
   "execution_count": 7,
   "metadata": {},
   "outputs": [
    {
     "data": {
      "text/plain": [
       "<AxesSubplot:xlabel='sum_gamerounds', ylabel='Density'>"
      ]
     },
     "execution_count": 7,
     "metadata": {},
     "output_type": "execute_result"
    },
    {
     "data": {
      "image/png": "[encoded data removed]",
      "text/plain": [
       "<Figure size 432x288 with 1 Axes>"
      ]
     },
     "metadata": {
      "needs_background": "light"
     },
     "output_type": "display_data"
    }
   ],
   "source": [
    "sns.distplot(user_df.sum_gamerounds)\n",
    "plt.show()"
   ]
  },
  {
   "cell_type": "markdown",
   "metadata": {},
   "source": [
    "- we can clearly see an outlier in the data, lets plot the box plot to get the point which are as outlier"
   ]
  },
  {
   "cell_type": "code",
   "execution_count": 8,
   "metadata": {},
   "outputs": [
    {
     "data": {
      "text/plain": [
       "<AxesSubplot:xlabel='sum_gamerounds'>"
      ]
     },
     "execution_count": 8,
     "metadata": {},
     "output_type": "execute_result"
    },
    {
     "data": {
      "image/png": "[encoded data removed]",
      "text/plain": [
       "<Figure size 432x288 with 1 Axes>"
      ]
     },
     "metadata": {
      "needs_background": "light"
     },
     "output_type": "display_data"
    }
   ],
   "source": [
    "sns.boxplot(user_df.sum_gamerounds)\n",
    "plt.show()"
   ]
  },
  {
   "cell_type": "markdown",
   "metadata": {},
   "source": [
    "- we can clearly find an outlier in the **sum_gamerounds** columns of the data, we will remove the outlier because it impact our analysis. It lead to wrong analysis and interpretations"
   ]
  },
  {
   "cell_type": "code",
   "execution_count": 9,
   "metadata": {
    "id": "XOdf6IaOiSZt"
   },
   "outputs": [
    {
     "name": "stdout",
     "output_type": "stream",
     "text": [
      "max value of sum_gamerounds\n"
     ]
    },
    {
     "data": {
      "text/plain": [
       "49854"
      ]
     },
     "execution_count": 9,
     "metadata": {},
     "output_type": "execute_result"
    }
   ],
   "source": [
    "#Based on the plot, filter out the outlier from sum_gamerounds played; Use max() fucntion to find the index of the outlier\n",
    "print(\"max value of sum_gamerounds\")\n",
    "max_values =max(user_df.sum_gamerounds)\n",
    "max_values"
   ]
  },
  {
   "cell_type": "code",
   "execution_count": 10,
   "metadata": {},
   "outputs": [
    {
     "name": "stdout",
     "output_type": "stream",
     "text": [
      "index of the max value\n"
     ]
    },
    {
     "data": {
      "text/plain": [
       "[57702]"
      ]
     },
     "execution_count": 10,
     "metadata": {},
     "output_type": "execute_result"
    }
   ],
   "source": [
    "print(\"index of the max value\")\n",
    "index_values= user_df[user_df.sum_gamerounds.isin([max_values])].index.tolist()\n",
    "index_values"
   ]
  },
  {
   "cell_type": "code",
   "execution_count": 11,
   "metadata": {},
   "outputs": [
    {
     "name": "stdout",
     "output_type": "stream",
     "text": [
      "User_Id for the max value\n"
     ]
    },
    {
     "data": {
      "text/plain": [
       "[6390605]"
      ]
     },
     "execution_count": 11,
     "metadata": {},
     "output_type": "execute_result"
    }
   ],
   "source": [
    "# Printing the user id for the outlier\n",
    "print(\"User_Id for the max value\")\n",
    "Max_User_id = user_df[user_df.sum_gamerounds.isin([max_values])].userid.tolist()\n",
    "Max_User_id"
   ]
  },
  {
   "cell_type": "code",
   "execution_count": 12,
   "metadata": {},
   "outputs": [],
   "source": [
    "# removing the row with maximum values by index\n",
    "user_df.drop(user_df.index[index_values],inplace= True)"
   ]
  },
  {
   "cell_type": "code",
   "execution_count": 13,
   "metadata": {
    "id": "7_9eQe7riSZt"
   },
   "outputs": [
    {
     "data": {
      "text/plain": [
       "Text(0.5, 1.0, 'Total gamerounds played')"
      ]
     },
     "execution_count": 13,
     "metadata": {},
     "output_type": "execute_result"
    },
    {
     "data": {
      "text/plain": [
       "Text(0.5, 0, 'Index')"
      ]
     },
     "execution_count": 13,
     "metadata": {},
     "output_type": "execute_result"
    },
    {
     "data": {
      "text/plain": [
       "Text(0, 0.5, 'sum_gamerounds')"
      ]
     },
     "execution_count": 13,
     "metadata": {},
     "output_type": "execute_result"
    },
    {
     "data": {
      "text/plain": [
       "[<matplotlib.lines.Line2D at 0x1e3685e9820>]"
      ]
     },
     "execution_count": 13,
     "metadata": {},
     "output_type": "execute_result"
    },
    {
     "data": {
      "image/png": "[encoded data removed]",
      "text/plain": [
       "<Figure size 432x288 with 1 Axes>"
      ]
     },
     "metadata": {
      "needs_background": "light"
     },
     "output_type": "display_data"
    }
   ],
   "source": [
    "#Plot the graph for sum_gamerounds player after removing the outlier\n",
    "\n",
    "plt.title(\"Total gamerounds played\")\n",
    "plt.xlabel(\"Index\")\n",
    "plt.ylabel(\"sum_gamerounds\")\n",
    "plt.plot(user_df.sum_gamerounds)\n",
    "plt.show()"
   ]
  },
  {
   "cell_type": "code",
   "execution_count": 14,
   "metadata": {},
   "outputs": [
    {
     "data": {
      "text/plain": [
       "<AxesSubplot:xlabel='sum_gamerounds'>"
      ]
     },
     "execution_count": 14,
     "metadata": {},
     "output_type": "execute_result"
    },
    {
     "data": {
      "image/png": "[encoded data removed]",
      "text/plain": [
       "<Figure size 432x288 with 1 Axes>"
      ]
     },
     "metadata": {
      "needs_background": "light"
     },
     "output_type": "display_data"
    }
   ],
   "source": [
    "sns.boxplot(user_df.sum_gamerounds)\n",
    "plt.show()"
   ]
  },
  {
   "cell_type": "markdown",
   "metadata": {},
   "source": [
    "- from the above two graphs we can see that the outlier has been eleminated from the data"
   ]
  },
  {
   "cell_type": "code",
   "execution_count": 15,
   "metadata": {},
   "outputs": [
    {
     "data": {
      "text/plain": [
       "<AxesSubplot:xlabel='sum_gamerounds', ylabel='Density'>"
      ]
     },
     "execution_count": 15,
     "metadata": {},
     "output_type": "execute_result"
    },
    {
     "data": {
      "image/png": "[encoded data removed]",
      "text/plain": [
       "<Figure size 432x288 with 1 Axes>"
      ]
     },
     "metadata": {
      "needs_background": "light"
     },
     "output_type": "display_data"
    }
   ],
   "source": [
    "sns.distplot(user_df.sum_gamerounds)\n",
    "plt.show()"
   ]
  },
  {
   "cell_type": "markdown",
   "metadata": {
    "id": "MRUPfPr9iSZt"
   },
   "source": [
    "## Q2. Plot summary statistics and identify trends to answer basis business questions"
   ]
  },
  {
   "cell_type": "markdown",
   "metadata": {
    "id": "4-Ah9dqQiSZt"
   },
   "source": [
    "### Q2.1 What is the overall 7-day retention rate of the game?"
   ]
  },
  {
   "cell_type": "code",
   "execution_count": 16,
   "metadata": {
    "id": "hHykqZ3YiSZu"
   },
   "outputs": [
    {
     "name": "stdout",
     "output_type": "stream",
     "text": [
      "Overal 7 days retention rate of the game for both versions is:  18.61 %\n"
     ]
    }
   ],
   "source": [
    "#Insert calculation for 7-day retention rate\n",
    "\n",
    "retention_rate_7= round((user_df.retention_7.sum()/user_df.shape[0])*100,2)\n",
    "print(\"Overal 7 days retention rate of the game for both versions is: \" ,retention_rate_7,\"%\")\n"
   ]
  },
  {
   "cell_type": "markdown",
   "metadata": {
    "id": "5okbyesoiSZu"
   },
   "source": [
    "### Q2.2 How many players never played the game after installing? "
   ]
  },
  {
   "cell_type": "code",
   "execution_count": 17,
   "metadata": {
    "id": "goO-ALhkiSZu"
   },
   "outputs": [
    {
     "data": {
      "text/plain": [
       "3994"
      ]
     },
     "execution_count": 17,
     "metadata": {},
     "output_type": "execute_result"
    }
   ],
   "source": [
    "# Find number of customers with sum_gamerounds is equal to zero\n",
    "\n",
    "user_df[user_df.sum_gamerounds ==0].shape[0]"
   ]
  },
  {
   "cell_type": "markdown",
   "metadata": {
    "id": "EVEICqddiSZu"
   },
   "source": [
    "### Q2.3 Does the number of users decrease as the level progresses highlighting the difficulty of the game?"
   ]
  },
  {
   "cell_type": "code",
   "execution_count": 18,
   "metadata": {},
   "outputs": [
    {
     "data": {
      "text/html": [
       "<div>\n",
       "<style scoped>\n",
       "    .dataframe tbody tr th:only-of-type {\n",
       "        vertical-align: middle;\n",
       "    }\n",
       "\n",
       "    .dataframe tbody tr th {\n",
       "        vertical-align: top;\n",
       "    }\n",
       "\n",
       "    .dataframe thead th {\n",
       "        text-align: right;\n",
       "    }\n",
       "</style>\n",
       "<table border=\"1\" class=\"dataframe\">\n",
       "  <thead>\n",
       "    <tr style=\"text-align: right;\">\n",
       "      <th></th>\n",
       "      <th>userid</th>\n",
       "    </tr>\n",
       "    <tr>\n",
       "      <th>sum_gamerounds</th>\n",
       "      <th></th>\n",
       "    </tr>\n",
       "  </thead>\n",
       "  <tbody>\n",
       "    <tr>\n",
       "      <th>0</th>\n",
       "      <td>3994</td>\n",
       "    </tr>\n",
       "    <tr>\n",
       "      <th>1</th>\n",
       "      <td>5538</td>\n",
       "    </tr>\n",
       "    <tr>\n",
       "      <th>2</th>\n",
       "      <td>4606</td>\n",
       "    </tr>\n",
       "    <tr>\n",
       "      <th>3</th>\n",
       "      <td>3958</td>\n",
       "    </tr>\n",
       "    <tr>\n",
       "      <th>4</th>\n",
       "      <td>3629</td>\n",
       "    </tr>\n",
       "    <tr>\n",
       "      <th>...</th>\n",
       "      <td>...</td>\n",
       "    </tr>\n",
       "    <tr>\n",
       "      <th>2251</th>\n",
       "      <td>1</td>\n",
       "    </tr>\n",
       "    <tr>\n",
       "      <th>2294</th>\n",
       "      <td>1</td>\n",
       "    </tr>\n",
       "    <tr>\n",
       "      <th>2438</th>\n",
       "      <td>1</td>\n",
       "    </tr>\n",
       "    <tr>\n",
       "      <th>2640</th>\n",
       "      <td>1</td>\n",
       "    </tr>\n",
       "    <tr>\n",
       "      <th>2961</th>\n",
       "      <td>1</td>\n",
       "    </tr>\n",
       "  </tbody>\n",
       "</table>\n",
       "<p>941 rows × 1 columns</p>\n",
       "</div>"
      ],
      "text/plain": [
       "                userid\n",
       "sum_gamerounds        \n",
       "0                 3994\n",
       "1                 5538\n",
       "2                 4606\n",
       "3                 3958\n",
       "4                 3629\n",
       "...                ...\n",
       "2251                 1\n",
       "2294                 1\n",
       "2438                 1\n",
       "2640                 1\n",
       "2961                 1\n",
       "\n",
       "[941 rows x 1 columns]"
      ]
     },
     "execution_count": 18,
     "metadata": {},
     "output_type": "execute_result"
    }
   ],
   "source": [
    "new_data = user_df[[\"userid\", \"sum_gamerounds\"]].groupby(\"sum_gamerounds\").count()\n",
    "new_data"
   ]
  },
  {
   "cell_type": "markdown",
   "metadata": {},
   "source": [
    "- We can clearly see that the number of users has been decresed with increse in the game rounds."
   ]
  },
  {
   "cell_type": "code",
   "execution_count": 19,
   "metadata": {
    "id": "zxwwafgFiSZu"
   },
   "outputs": [
    {
     "data": {
      "text/plain": [
       "Text(0.5, 0, 'sum_gamerounds')"
      ]
     },
     "execution_count": 19,
     "metadata": {},
     "output_type": "execute_result"
    },
    {
     "data": {
      "text/plain": [
       "Text(0, 0.5, 'count of players')"
      ]
     },
     "execution_count": 19,
     "metadata": {},
     "output_type": "execute_result"
    },
    {
     "data": {
      "text/plain": [
       "Text(0.5, 1.0, 'count of players vs sum_gamerounds')"
      ]
     },
     "execution_count": 19,
     "metadata": {},
     "output_type": "execute_result"
    },
    {
     "data": {
      "text/plain": [
       "[<matplotlib.lines.Line2D at 0x1e369074070>]"
      ]
     },
     "execution_count": 19,
     "metadata": {},
     "output_type": "execute_result"
    },
    {
     "data": {
      "image/png": "[encoded data removed]",
      "text/plain": [
       "<Figure size 432x288 with 1 Axes>"
      ]
     },
     "metadata": {
      "needs_background": "light"
     },
     "output_type": "display_data"
    }
   ],
   "source": [
    "#Group by sum_gamerounds and count the number of users for the first 200 gamerounds\n",
    "#Use plot() function on the summarized stats to visualize the chart\n",
    "new_data = user_df[[\"userid\", \"sum_gamerounds\"]].groupby(\"sum_gamerounds\").count().reset_index().rename(columns={\"userid\":\"count\"})[0:200]\n",
    "plt.xlabel(\"sum_gamerounds\")\n",
    "plt.ylabel(\"count of players\")\n",
    "plt.title(\"count of players vs sum_gamerounds\")\n",
    "plt.plot(new_data[\"sum_gamerounds\"],new_data[\"count\"])\n",
    "plt.show()"
   ]
  },
  {
   "cell_type": "markdown",
   "metadata": {
    "id": "DcyQYU-tiSZu"
   },
   "source": [
    "## Q3. Generate crosstab for two groups of players to understand if there is a difference in 7 days retention rate & total number of game rounds played"
   ]
  },
  {
   "cell_type": "markdown",
   "metadata": {
    "id": "2w7GpBd8iSZu"
   },
   "source": [
    "### Q3.1 Seven days retention rate summary for different game versions"
   ]
  },
  {
   "cell_type": "code",
   "execution_count": 20,
   "metadata": {
    "id": "-t8DdMxBiSZu",
    "outputId": "7400ae07-5180-4b58-fd59-9360779e8b57"
   },
   "outputs": [
    {
     "data": {
      "text/html": [
       "<div>\n",
       "<style scoped>\n",
       "    .dataframe tbody tr th:only-of-type {\n",
       "        vertical-align: middle;\n",
       "    }\n",
       "\n",
       "    .dataframe tbody tr th {\n",
       "        vertical-align: top;\n",
       "    }\n",
       "\n",
       "    .dataframe thead th {\n",
       "        text-align: right;\n",
       "    }\n",
       "</style>\n",
       "<table border=\"1\" class=\"dataframe\">\n",
       "  <thead>\n",
       "    <tr style=\"text-align: right;\">\n",
       "      <th>retention_7</th>\n",
       "      <th>False</th>\n",
       "      <th>True</th>\n",
       "    </tr>\n",
       "    <tr>\n",
       "      <th>version</th>\n",
       "      <th></th>\n",
       "      <th></th>\n",
       "    </tr>\n",
       "  </thead>\n",
       "  <tbody>\n",
       "    <tr>\n",
       "      <th>gate_30</th>\n",
       "      <td>0.809817</td>\n",
       "      <td>0.190183</td>\n",
       "    </tr>\n",
       "    <tr>\n",
       "      <th>gate_40</th>\n",
       "      <td>0.818000</td>\n",
       "      <td>0.182000</td>\n",
       "    </tr>\n",
       "  </tbody>\n",
       "</table>\n",
       "</div>"
      ],
      "text/plain": [
       "retention_7     False     True \n",
       "version                        \n",
       "gate_30      0.809817  0.190183\n",
       "gate_40      0.818000  0.182000"
      ]
     },
     "execution_count": 20,
     "metadata": {},
     "output_type": "execute_result"
    }
   ],
   "source": [
    "#Create cross tab for game version and retention_7 flag counting number of users for each possible categories\n",
    "\n",
    "pd.crosstab(user_df.version, user_df.retention_7).apply(lambda r: r/r.sum(), axis=1)"
   ]
  },
  {
   "cell_type": "markdown",
   "metadata": {
    "id": "aL9bwkcpiSZv"
   },
   "source": [
    "<mark>__Analsysis Results:__\n",
    "    \n",
    "Type your interpretation here from the crosstab generated above   \n",
    "Based on crosstab it look like there is neglibale difference among the two groups, but we need to validate it statistically. It also shows that majority(~80) in both the cases stopped playing the game after 7 days period. while we see around 50% customer\n",
    "donot play game in the first day after installing the games."
   ]
  },
  {
   "cell_type": "markdown",
   "metadata": {
    "id": "62ZIlfh1iSZv"
   },
   "source": [
    "### Q3.2 Gamerounds summary for different game versions"
   ]
  },
  {
   "cell_type": "code",
   "execution_count": 21,
   "metadata": {
    "id": "BCyf0Q5eiSZv"
   },
   "outputs": [
    {
     "data": {
      "text/html": [
       "<div>\n",
       "<style scoped>\n",
       "    .dataframe tbody tr th:only-of-type {\n",
       "        vertical-align: middle;\n",
       "    }\n",
       "\n",
       "    .dataframe tbody tr th {\n",
       "        vertical-align: top;\n",
       "    }\n",
       "\n",
       "    .dataframe thead th {\n",
       "        text-align: right;\n",
       "    }\n",
       "</style>\n",
       "<table border=\"1\" class=\"dataframe\">\n",
       "  <thead>\n",
       "    <tr style=\"text-align: right;\">\n",
       "      <th></th>\n",
       "      <th>sum_gamerounds</th>\n",
       "    </tr>\n",
       "    <tr>\n",
       "      <th>version</th>\n",
       "      <th></th>\n",
       "    </tr>\n",
       "  </thead>\n",
       "  <tbody>\n",
       "    <tr>\n",
       "      <th>gate_30</th>\n",
       "      <td>51.342111</td>\n",
       "    </tr>\n",
       "    <tr>\n",
       "      <th>gate_40</th>\n",
       "      <td>51.298776</td>\n",
       "    </tr>\n",
       "  </tbody>\n",
       "</table>\n",
       "</div>"
      ],
      "text/plain": [
       "         sum_gamerounds\n",
       "version                \n",
       "gate_30       51.342111\n",
       "gate_40       51.298776"
      ]
     },
     "execution_count": 21,
     "metadata": {},
     "output_type": "execute_result"
    }
   ],
   "source": [
    "#use pandas group by to calculate average game rounds played summarized by different versions\n",
    "user_df[[\"version\",\"sum_gamerounds\"]].groupby('version').agg(\"mean\")"
   ]
  },
  {
   "cell_type": "code",
   "execution_count": 22,
   "metadata": {},
   "outputs": [
    {
     "data": {
      "text/html": [
       "<div>\n",
       "<style scoped>\n",
       "    .dataframe tbody tr th:only-of-type {\n",
       "        vertical-align: middle;\n",
       "    }\n",
       "\n",
       "    .dataframe tbody tr th {\n",
       "        vertical-align: top;\n",
       "    }\n",
       "\n",
       "    .dataframe thead th {\n",
       "        text-align: right;\n",
       "    }\n",
       "</style>\n",
       "<table border=\"1\" class=\"dataframe\">\n",
       "  <thead>\n",
       "    <tr style=\"text-align: right;\">\n",
       "      <th></th>\n",
       "      <th>sum_gamerounds</th>\n",
       "    </tr>\n",
       "    <tr>\n",
       "      <th>version</th>\n",
       "      <th></th>\n",
       "    </tr>\n",
       "  </thead>\n",
       "  <tbody>\n",
       "    <tr>\n",
       "      <th>gate_30</th>\n",
       "      <td>2294941</td>\n",
       "    </tr>\n",
       "    <tr>\n",
       "      <th>gate_40</th>\n",
       "      <td>2333530</td>\n",
       "    </tr>\n",
       "  </tbody>\n",
       "</table>\n",
       "</div>"
      ],
      "text/plain": [
       "         sum_gamerounds\n",
       "version                \n",
       "gate_30         2294941\n",
       "gate_40         2333530"
      ]
     },
     "execution_count": 22,
     "metadata": {},
     "output_type": "execute_result"
    }
   ],
   "source": [
    "#use pandas group by to calculate average game rounds played summarized by different versions\n",
    "user_df[[\"version\",\"sum_gamerounds\"]].groupby('version').agg('sum')"
   ]
  },
  {
   "cell_type": "code",
   "execution_count": 23,
   "metadata": {},
   "outputs": [
    {
     "data": {
      "text/plain": [
       "165.6498369368281"
      ]
     },
     "execution_count": 23,
     "metadata": {},
     "output_type": "execute_result"
    }
   ],
   "source": [
    "user_df[(user_df.retention_7 == True) & (user_df.version == \"gate_40\")].sum_gamerounds.mean()"
   ]
  },
  {
   "cell_type": "markdown",
   "metadata": {
    "id": "DP5BIJZyiSZv"
   },
   "source": [
    "<mark>__Analsysis Results:__\n",
    "    \n",
    "Do total number of gamerounds played in total by each player differ based on  different versions of the game? \n",
    "- It appears that there is not much difference in the total by each player differ based on different version of game"
   ]
  },
  {
   "cell_type": "markdown",
   "metadata": {
    "id": "HdEYjtfpiSZv"
   },
   "source": [
    "## Q4. Perform two-sample test for groups A and B to test statistical significance amongst the groups in the sum of game rounds played i.e., if groups A and B are statistically different"
   ]
  },
  {
   "cell_type": "markdown",
   "metadata": {
    "id": "3ydc-t8WiSZw"
   },
   "source": [
    "\n",
    "### Initial data processing"
   ]
  },
  {
   "cell_type": "code",
   "execution_count": 24,
   "metadata": {},
   "outputs": [
    {
     "data": {
      "text/plain": [
       "0    gate_30\n",
       "1    gate_30\n",
       "2    gate_40\n",
       "3    gate_40\n",
       "4    gate_40\n",
       "Name: version, dtype: object"
      ]
     },
     "execution_count": 24,
     "metadata": {},
     "output_type": "execute_result"
    }
   ],
   "source": [
    "user_df.version.head()"
   ]
  },
  {
   "cell_type": "code",
   "execution_count": 25,
   "metadata": {
    "id": "YtgXXq93iSZw"
   },
   "outputs": [],
   "source": [
    "#Define A/B groups for hypothesis testing\n",
    "#user_df[\"version\"] = np.where(user_df.version == \"gate_30\", \"A\", \"B\")\n",
    "user_df['version'] = user_df[\"version\"].replace([\"gate_30\",\"gate_40\"],['A','B'])\n",
    "group_A=pd.DataFrame(user_df[user_df.version==\"A\"]['sum_gamerounds'])\n",
    "group_B=pd.DataFrame(user_df[user_df.version==\"B\"]['sum_gamerounds'])"
   ]
  },
  {
   "cell_type": "code",
   "execution_count": 26,
   "metadata": {},
   "outputs": [
    {
     "name": "stdout",
     "output_type": "stream",
     "text": [
      "    sum_gamerounds\n",
      "0                3\n",
      "1               38\n",
      "6                0\n",
      "11               0\n",
      "13              39\n"
     ]
    }
   ],
   "source": [
    "print(group_A.head())"
   ]
  },
  {
   "cell_type": "code",
   "execution_count": 27,
   "metadata": {
    "scrolled": true
   },
   "outputs": [
    {
     "data": {
      "text/html": [
       "<div>\n",
       "<style scoped>\n",
       "    .dataframe tbody tr th:only-of-type {\n",
       "        vertical-align: middle;\n",
       "    }\n",
       "\n",
       "    .dataframe tbody tr th {\n",
       "        vertical-align: top;\n",
       "    }\n",
       "\n",
       "    .dataframe thead th {\n",
       "        text-align: right;\n",
       "    }\n",
       "</style>\n",
       "<table border=\"1\" class=\"dataframe\">\n",
       "  <thead>\n",
       "    <tr style=\"text-align: right;\">\n",
       "      <th></th>\n",
       "      <th>sum_gamerounds</th>\n",
       "    </tr>\n",
       "  </thead>\n",
       "  <tbody>\n",
       "    <tr>\n",
       "      <th>count</th>\n",
       "      <td>44699.000000</td>\n",
       "    </tr>\n",
       "    <tr>\n",
       "      <th>mean</th>\n",
       "      <td>51.342111</td>\n",
       "    </tr>\n",
       "    <tr>\n",
       "      <th>std</th>\n",
       "      <td>102.057598</td>\n",
       "    </tr>\n",
       "    <tr>\n",
       "      <th>min</th>\n",
       "      <td>0.000000</td>\n",
       "    </tr>\n",
       "    <tr>\n",
       "      <th>25%</th>\n",
       "      <td>5.000000</td>\n",
       "    </tr>\n",
       "    <tr>\n",
       "      <th>50%</th>\n",
       "      <td>17.000000</td>\n",
       "    </tr>\n",
       "    <tr>\n",
       "      <th>75%</th>\n",
       "      <td>50.000000</td>\n",
       "    </tr>\n",
       "    <tr>\n",
       "      <th>max</th>\n",
       "      <td>2961.000000</td>\n",
       "    </tr>\n",
       "  </tbody>\n",
       "</table>\n",
       "</div>"
      ],
      "text/plain": [
       "       sum_gamerounds\n",
       "count    44699.000000\n",
       "mean        51.342111\n",
       "std        102.057598\n",
       "min          0.000000\n",
       "25%          5.000000\n",
       "50%         17.000000\n",
       "75%         50.000000\n",
       "max       2961.000000"
      ]
     },
     "execution_count": 27,
     "metadata": {},
     "output_type": "execute_result"
    }
   ],
   "source": [
    "group_A_df = pd.DataFrame(group_A)\n",
    "group_A_df.describe()"
   ]
  },
  {
   "cell_type": "code",
   "execution_count": 28,
   "metadata": {},
   "outputs": [
    {
     "data": {
      "text/html": [
       "<div>\n",
       "<style scoped>\n",
       "    .dataframe tbody tr th:only-of-type {\n",
       "        vertical-align: middle;\n",
       "    }\n",
       "\n",
       "    .dataframe tbody tr th {\n",
       "        vertical-align: top;\n",
       "    }\n",
       "\n",
       "    .dataframe thead th {\n",
       "        text-align: right;\n",
       "    }\n",
       "</style>\n",
       "<table border=\"1\" class=\"dataframe\">\n",
       "  <thead>\n",
       "    <tr style=\"text-align: right;\">\n",
       "      <th></th>\n",
       "      <th>sum_gamerounds</th>\n",
       "    </tr>\n",
       "  </thead>\n",
       "  <tbody>\n",
       "    <tr>\n",
       "      <th>count</th>\n",
       "      <td>45489.000000</td>\n",
       "    </tr>\n",
       "    <tr>\n",
       "      <th>mean</th>\n",
       "      <td>51.298776</td>\n",
       "    </tr>\n",
       "    <tr>\n",
       "      <th>std</th>\n",
       "      <td>103.294416</td>\n",
       "    </tr>\n",
       "    <tr>\n",
       "      <th>min</th>\n",
       "      <td>0.000000</td>\n",
       "    </tr>\n",
       "    <tr>\n",
       "      <th>25%</th>\n",
       "      <td>5.000000</td>\n",
       "    </tr>\n",
       "    <tr>\n",
       "      <th>50%</th>\n",
       "      <td>16.000000</td>\n",
       "    </tr>\n",
       "    <tr>\n",
       "      <th>75%</th>\n",
       "      <td>52.000000</td>\n",
       "    </tr>\n",
       "    <tr>\n",
       "      <th>max</th>\n",
       "      <td>2640.000000</td>\n",
       "    </tr>\n",
       "  </tbody>\n",
       "</table>\n",
       "</div>"
      ],
      "text/plain": [
       "       sum_gamerounds\n",
       "count    45489.000000\n",
       "mean        51.298776\n",
       "std        103.294416\n",
       "min          0.000000\n",
       "25%          5.000000\n",
       "50%         16.000000\n",
       "75%         52.000000\n",
       "max       2640.000000"
      ]
     },
     "execution_count": 28,
     "metadata": {},
     "output_type": "execute_result"
    }
   ],
   "source": [
    "group_B_df = pd.DataFrame(group_B)\n",
    "group_B_df.describe()"
   ]
  },
  {
   "cell_type": "markdown",
   "metadata": {
    "id": "zlyeTKiTiSZw"
   },
   "source": [
    "### Q4.1 Shapiro test of Normality"
   ]
  },
  {
   "cell_type": "code",
   "execution_count": 29,
   "metadata": {
    "id": "tXsSQmHdiSZw"
   },
   "outputs": [
    {
     "data": {
      "text/plain": [
       "ShapiroResult(statistic=0.48864424228668213, pvalue=0.0)"
      ]
     },
     "execution_count": 29,
     "metadata": {},
     "output_type": "execute_result"
    },
    {
     "data": {
      "text/plain": [
       "ShapiroResult(statistic=0.4825654625892639, pvalue=0.0)"
      ]
     },
     "execution_count": 29,
     "metadata": {},
     "output_type": "execute_result"
    }
   ],
   "source": [
    "#---------------------- Shapiro Test ----------------------\n",
    "# NULL Hypothesis H0: Distribution is normal\n",
    "# ALTERNATE Hypothesis H1: Distribution is not normal    \n",
    "\n",
    "#test for group_A\n",
    "shapiro(group_A)\n",
    "\n",
    "#test for group_B\n",
    "shapiro(group_B)"
   ]
  },
  {
   "cell_type": "markdown",
   "metadata": {
    "id": "AOQIRsuAiSZw"
   },
   "source": [
    "<mark>__Analsysis Results:__\n",
    "    \n",
    "__Type your answer here:__ Analyze and interpret the results of shapiro test of normality i.e. are the two groups normally distributed?\n",
    "-  **Shapiro Test** test for normality is available when using the Distribution platform to examine a continuous variable.\n",
    "the p-value is less than 0.05, then the null hypothesis that the data are normally distributed is rejected."
   ]
  },
  {
   "cell_type": "markdown",
   "metadata": {
    "id": "q4o9AOd7iSZx"
   },
   "source": [
    "### Q4.2 Test of homegienity of variance"
   ]
  },
  {
   "cell_type": "code",
   "execution_count": 30,
   "metadata": {
    "id": "mrziVdBNiSZx"
   },
   "outputs": [
    {
     "data": {
      "text/plain": [
       "LeveneResult(statistic=0.07510153837481241, pvalue=0.7840494387892463)"
      ]
     },
     "execution_count": 30,
     "metadata": {},
     "output_type": "execute_result"
    }
   ],
   "source": [
    "#---------------------- Leven's Test ----------------------\n",
    "# NULL Hypothesis H0: Two groups have equal variances\n",
    "# ALTERNATE Hypothesis H1: Two groups do not have equal variances\n",
    "from scipy.stats import levene\n",
    "#perform levene's test and accept or reject the null hypothesis based on the results\n",
    "levene(group_A.sum_gamerounds,group_B.sum_gamerounds)"
   ]
  },
  {
   "cell_type": "markdown",
   "metadata": {
    "id": "LwTNd1VPiSZx"
   },
   "source": [
    "<mark>__Analsysis Results:__\n",
    "    \n",
    "__Type your answer here:__ Write your final recommendation from the results of Levene's test\n",
    "- **Levene**'s test is used to test if k samples have equal variances. Equal variances across samples is called homogeneity of variance. Some statistical tests, for example the analysis of variance, assume that variances are equal across groups or samples. The Levene test can be used to verify that assumption.    \n",
    "- the p-value suggests that we fail to reject the null hypothesis that, the two group have equal variances."
   ]
  },
  {
   "cell_type": "markdown",
   "metadata": {
    "id": "uWPsJfKPiSZy"
   },
   "source": [
    "### Q4.3 Test of significance: Two sample test"
   ]
  },
  {
   "cell_type": "code",
   "execution_count": 31,
   "metadata": {
    "id": "l7nqj4X5iSZz"
   },
   "outputs": [
    {
     "data": {
      "text/plain": [
       "MannwhitneyuResult(statistic=1009027049.5, pvalue=0.02544577639572688)"
      ]
     },
     "execution_count": 31,
     "metadata": {},
     "output_type": "execute_result"
    }
   ],
   "source": [
    "#---------------------- Two samples test ----------------------\n",
    "# NULL Hypothesis H0: Two samples are equal\n",
    "# ALTERNATE Hypothesis H1: Two samples are different\n",
    "\n",
    "#Apply relevant two sample test to accept or reject the NULL hypothesis\n",
    "\n",
    "stats.mannwhitneyu(group_A.sum_gamerounds, group_B.sum_gamerounds)\n"
   ]
  },
  {
   "cell_type": "code",
   "execution_count": 32,
   "metadata": {},
   "outputs": [
    {
     "data": {
      "text/plain": [
       "MannwhitneyuResult(statistic=1024285761.5, pvalue=0.02544577639572688)"
      ]
     },
     "execution_count": 32,
     "metadata": {},
     "output_type": "execute_result"
    }
   ],
   "source": [
    "#---------------------- Two samples test ----------------------\n",
    "# NULL Hypothesis H0: Two samples are equal\n",
    "# ALTERNATE Hypothesis H1: Two samples are different\n",
    "\n",
    "#Apply relevant two sample test to accept or reject the NULL hypothesis\n",
    "\n",
    "stats.mannwhitneyu(group_A.sum_gamerounds, group_B.sum_gamerounds, alternative= 'greater')\n"
   ]
  },
  {
   "cell_type": "markdown",
   "metadata": {
    "id": "kE7uFYGSiSZz"
   },
   "source": [
    "<mark>__Analsysis Results:__\n",
    "    \n",
    "__Type your answer here:__ Write your final recommendation from the results of two sample hyothesis testing\n",
    "    \n",
    "- **Mann-Whitney U** test is the non-parametric alternative test to the independent sample t-test.  It is a non-parametric test that is used to compare two sample means that come from the same population, and used to test whether two sample means are equal or not.  Usually, the Mann-Whitney U test is used when the data is ordinal or when the assumptions of the t-test are not met.\n",
    "\n",
    "- It describe that how two groups are differ significantly, as the data is not distributed normally, we can go for the Mann-Whitney U Test. for normal we use t-test\n",
    "\n",
    "    - we have mann whineyou test to check the null hypothesis, whether the two groups are similar or different. we have repeated the mannwhitney u test with the same null hypothesis being whether the first group is greater than the second group. the result make it clear that the group_A and group_B are different."
   ]
  },
  {
   "cell_type": "markdown",
   "metadata": {
    "id": "AJRShYQFiSZz"
   },
   "source": [
    "## Q5. Based on significance testing results, if groups A and B are statistically different, which level has more advantage in terms of player retention and number of game rounds played"
   ]
  },
  {
   "cell_type": "code",
   "execution_count": 33,
   "metadata": {
    "id": "1d_q6KSxiSZz"
   },
   "outputs": [
    {
     "data": {
      "text/html": [
       "<div>\n",
       "<style scoped>\n",
       "    .dataframe tbody tr th:only-of-type {\n",
       "        vertical-align: middle;\n",
       "    }\n",
       "\n",
       "    .dataframe tbody tr th {\n",
       "        vertical-align: top;\n",
       "    }\n",
       "\n",
       "    .dataframe thead th {\n",
       "        text-align: right;\n",
       "    }\n",
       "</style>\n",
       "<table border=\"1\" class=\"dataframe\">\n",
       "  <thead>\n",
       "    <tr style=\"text-align: right;\">\n",
       "      <th></th>\n",
       "      <th>retention_7</th>\n",
       "      <th>retention_1</th>\n",
       "    </tr>\n",
       "    <tr>\n",
       "      <th>version</th>\n",
       "      <th></th>\n",
       "      <th></th>\n",
       "    </tr>\n",
       "  </thead>\n",
       "  <tbody>\n",
       "    <tr>\n",
       "      <th>A</th>\n",
       "      <td>0.190183</td>\n",
       "      <td>0.448198</td>\n",
       "    </tr>\n",
       "    <tr>\n",
       "      <th>B</th>\n",
       "      <td>0.182000</td>\n",
       "      <td>0.442283</td>\n",
       "    </tr>\n",
       "  </tbody>\n",
       "</table>\n",
       "</div>"
      ],
      "text/plain": [
       "         retention_7  retention_1\n",
       "version                          \n",
       "A           0.190183     0.448198\n",
       "B           0.182000     0.442283"
      ]
     },
     "execution_count": 33,
     "metadata": {},
     "output_type": "execute_result"
    }
   ],
   "source": [
    "#Analyze the 1 day and 7 days retention rate for two different groups using group by function\n",
    "user_df[[\"version\",\"retention_7\",\"retention_1\"]].groupby(\"version\").agg(\"mean\")\n",
    "\n"
   ]
  },
  {
   "cell_type": "markdown",
   "metadata": {
    "id": "eNFy8DxGiSZz"
   },
   "source": [
    "<mark>__Analsysis Results:__\n",
    "    \n",
    "__Type your answer here:__ Write your final recommendation to the company regarding which level works best as the first gate  - Level 30 or Level 40\n",
    "- Based on the significant test we can conclude that gate level 30 has higher retention rate"
   ]
  },
  {
   "cell_type": "markdown",
   "metadata": {
    "id": "GFeU6V0kiSZ0"
   },
   "source": [
    "## Q6. [Bonus Question]  Using bootstrap resampling, plot the retention rate distribution for both the groups inorder to visualize effect of different version of the game on retention."
   ]
  },
  {
   "cell_type": "code",
   "execution_count": 34,
   "metadata": {
    "id": "jGW6O6jOiSZ0"
   },
   "outputs": [
    {
     "data": {
      "text/plain": [
       "<AxesSubplot:title={'center':'retention_1'}, ylabel='Density'>"
      ]
     },
     "execution_count": 34,
     "metadata": {},
     "output_type": "execute_result"
    },
    {
     "data": {
      "image/png": "[encoded data removed]",
      "text/plain": [
       "<Figure size 432x288 with 1 Axes>"
      ]
     },
     "metadata": {
      "needs_background": "light"
     },
     "output_type": "display_data"
    },
    {
     "data": {
      "text/plain": [
       "<AxesSubplot:title={'center':'retention_7'}, ylabel='Density'>"
      ]
     },
     "execution_count": 34,
     "metadata": {},
     "output_type": "execute_result"
    },
    {
     "data": {
      "image/png": "[encoded data removed]",
      "text/plain": [
       "<Figure size 432x288 with 1 Axes>"
      ]
     },
     "metadata": {
      "needs_background": "light"
     },
     "output_type": "display_data"
    }
   ],
   "source": [
    "#Hint: Plot density function\n",
    "\n",
    "list_1d = []\n",
    "list_2d = []\n",
    "for i in range(500):\n",
    "    boot_mean1 = user_df.sample(frac=0.7, replace=True).groupby('version')['retention_1'].mean()\n",
    "    list_1d.append(boot_mean1.values)\n",
    "    \n",
    "    boot_mean2= user_df.sample(frac=0.7, replace=True).groupby('version')['retention_7'].mean()\n",
    "    list_2d.append(boot_mean2.values)\n",
    "    \n",
    "#Transforming the list to dataframe\n",
    "\n",
    "list_1d=pd.DataFrame(list_1d,columns =['gate_30','gate_40'])\n",
    "#tranforming the list to a Dataframe\n",
    "list_2d=pd.DataFrame(list_2d,columns =['gate_30','gate_40'])\n",
    "\n",
    "list_1d.plot(kind = 'kde',title = 'retention_1')\n",
    "plt.show()\n",
    "\n",
    "list_2d.plot(kind = 'kde',title = 'retention_7')\n",
    "plt.show()\n"
   ]
  },
  {
   "cell_type": "markdown",
   "metadata": {},
   "source": [
    "**Interpretation**:\n",
    "- from above graph, we can find that, in retention -1 there is not much differce in the gates, players are easily making at gate 30 & 40 and average is also same and the number is almost 44.\n",
    "\n",
    "\n",
    "- In both the gates  have  almost equal number players, thus we can say that CEO assumption of increasing the Gate is not advisble as the player who is willing to play further they can wait or pay to play next levels."
   ]
  },
  {
   "cell_type": "code",
   "execution_count": null,
   "metadata": {},
   "outputs": [],
   "source": []
  },
  {
   "cell_type": "code",
   "execution_count": null,
   "metadata": {},
   "outputs": [],
   "source": []
  },
  {
   "cell_type": "code",
   "execution_count": null,
   "metadata": {},
   "outputs": [],
   "source": []
  }
 ],
 "metadata": {
  "colab": {
   "collapsed_sections": [],
   "name": "Project 7 Starter Code.ipynb",
   "provenance": []
  },
  "kernelspec": {
   "display_name": "Python 3",
   "language": "python",
   "name": "python3"
  },
  "language_info": {
   "codemirror_mode": {
    "name": "ipython",
    "version": 3
   },
   "file_extension": ".py",
   "mimetype": "text/x-python",
   "name": "python",
   "nbconvert_exporter": "python",
   "pygments_lexer": "ipython3",
   "version": "3.8.8"
  }
 },
 "nbformat": 4,
 "nbformat_minor": 1
}
