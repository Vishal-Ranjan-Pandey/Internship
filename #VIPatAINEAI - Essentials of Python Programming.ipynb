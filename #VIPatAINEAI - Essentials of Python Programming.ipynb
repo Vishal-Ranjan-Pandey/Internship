{
 "cells": [
  {
   "cell_type": "markdown",
   "id": "b169161f",
   "metadata": {},
   "source": [
    "- we are creating a game **Rock Paper and Scissors**"
   ]
  },
  {
   "cell_type": "code",
   "execution_count": 1,
   "id": "546cf9df",
   "metadata": {},
   "outputs": [
    {
     "name": "stdout",
     "output_type": "stream",
     "text": [
      "rock, paper, scissors\n",
      "0 wins,0 losse,0 ties\n",
      "Enter your move: (r)ock,(p)aper,(s)cissors or (q)uit\n",
      "r\n",
      "rock versus....\n",
      "scissors\n",
      "you win!\n",
      "1 wins,0 losse,0 ties\n",
      "Enter your move: (r)ock,(p)aper,(s)cissors or (q)uit\n",
      "p\n",
      "paper versus....\n",
      "scissors\n",
      "you lose!\n",
      "1 wins,1 losse,0 ties\n",
      "Enter your move: (r)ock,(p)aper,(s)cissors or (q)uit\n",
      "s\n",
      "scissors versus....\n",
      "paper\n",
      "you win!\n",
      "2 wins,1 losse,0 ties\n",
      "Enter your move: (r)ock,(p)aper,(s)cissors or (q)uit\n",
      "s\n",
      "scissors versus....\n",
      "paper\n",
      "you win!\n",
      "3 wins,1 losse,0 ties\n",
      "Enter your move: (r)ock,(p)aper,(s)cissors or (q)uit\n",
      "r\n",
      "rock versus....\n",
      "paper\n",
      "3 wins,1 losse,0 ties\n",
      "Enter your move: (r)ock,(p)aper,(s)cissors or (q)uit\n",
      "e\n",
      "Type one of r,p,s or q.\n",
      "Enter your move: (r)ock,(p)aper,(s)cissors or (q)uit\n",
      "q\n"
     ]
    },
    {
     "ename": "SystemExit",
     "evalue": "",
     "output_type": "error",
     "traceback": [
      "An exception has occurred, use %tb to see the full traceback.\n",
      "\u001b[1;31mSystemExit\u001b[0m\n"
     ]
    },
    {
     "name": "stderr",
     "output_type": "stream",
     "text": [
      "C:\\Users\\jayku\\anaconda3\\lib\\site-packages\\IPython\\core\\interactiveshell.py:3445: UserWarning: To exit: use 'exit', 'quit', or Ctrl-D.\n",
      "  warn(\"To exit: use 'exit', 'quit', or Ctrl-D.\", stacklevel=1)\n"
     ]
    }
   ],
   "source": [
    "import random, sys\n",
    "print('rock, paper, scissors')\n",
    "# These varibale keep trakers of win losses and ties.\n",
    "wins = 0\n",
    "losses = 0\n",
    "ties=0\n",
    "\n",
    "while True: # The main game loop\n",
    "      print('%s wins,%s losse,%s ties'% (wins,losses,ties))\n",
    "      while True: # player input loop.\n",
    "          print('Enter your move: (r)ock,(p)aper,(s)cissors or (q)uit')\n",
    "          playermove = input()\n",
    "          if playermove == 'q':\n",
    "              sys.exit()# quiting the program\n",
    "          if playermove=='r' or playermove=='s'or playermove=='p':\n",
    "              break\n",
    "          print('Type one of r,p,s or q.')\n",
    "      # Display what computer chose:\n",
    "      if playermove == 'r':\n",
    "          print('rock versus....')\n",
    "      elif playermove== 'p':\n",
    "          print('paper versus....')\n",
    "      elif playermove== 's':\n",
    "          print('scissors versus....')\n",
    "      # Display what computer chose\n",
    "      randomnumber = random.randint(1,3)\n",
    "      if randomnumber == 1:\n",
    "          computermove ='r'\n",
    "          print('rock')\n",
    "      elif randomnumber == 2:\n",
    "          computermove ='p'\n",
    "          print('paper')\n",
    "      elif randomnumber == 3:\n",
    "          computermove = 's'\n",
    "          print('scissors')\n",
    "      # Displaying and record the win lose and tie:\n",
    "      if playermove == computermove:\n",
    "          print(\"It is a tie!\")\n",
    "          ties = ties + 1\n",
    "      elif playermove == 'r' and computermove == 's':\n",
    "          print('you win!')\n",
    "          wins = wins+1\n",
    "      elif playermove == 'p' and computermove == 'r':\n",
    "          print('you win!')\n",
    "          wins = wins+1\n",
    "      elif playermove == 's' and computermove == 'p':\n",
    "          print('you win!')\n",
    "          wins = wins+1\n",
    "      elif playermove == 'p' and computermove == 's':\n",
    "          print('you lose!')\n",
    "          losses = losses +1\n",
    "      elif playermove == 's' and computermove == 'r':\n",
    "          print('you lose!')\n",
    "          losses = losses+1\n",
    "      elif playermove == 'r' and playermove == 'p':\n",
    "          print('you lose!')\n",
    "          losses = losses+1"
   ]
  },
  {
   "cell_type": "code",
   "execution_count": null,
   "id": "3d67eeb6",
   "metadata": {},
   "outputs": [],
   "source": []
  }
 ],
 "metadata": {
  "kernelspec": {
   "display_name": "Python 3",
   "language": "python",
   "name": "python3"
  },
  "language_info": {
   "codemirror_mode": {
    "name": "ipython",
    "version": 3
   },
   "file_extension": ".py",
   "mimetype": "text/x-python",
   "name": "python",
   "nbconvert_exporter": "python",
   "pygments_lexer": "ipython3",
   "version": "3.8.8"
  }
 },
 "nbformat": 4,
 "nbformat_minor": 5
}
